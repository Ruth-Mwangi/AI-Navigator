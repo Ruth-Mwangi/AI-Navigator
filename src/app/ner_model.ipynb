{
  "cells": [
    {
      "cell_type": "code",
      "execution_count": 4,
      "metadata": {
        "id": "aBJlQXgIpNlt"
      },
      "outputs": [],
      "source": [
        "import numpy as np\n",
        "import pandas as pd\n",
        "\n",
        "import matplotlib.pyplot as plt\n",
        "import seaborn as sns\n",
        "\n",
        "import nltk\n",
        "import spacy\n",
        "from spacy.tokens import DocBin\n",
        "from tqdm import tqdm\n",
        "import json\n",
        "from spacy.util import filter_spans"
      ]
    },
    {
      "cell_type": "code",
      "execution_count": 5,
      "metadata": {
        "id": "b3_va4Vdq2wO"
      },
      "outputs": [],
      "source": [
        "# Define the path to the training data file\n",
        "train_file=\"../data/annotations (5).json\"\n",
        "\n",
        "# Load the training data from the JSON file\n",
        "with open(train_file) as f:\n",
        "    data = json.load(f)\n",
        "\n",
        "# Extract the relevant columns from the DataFrame\n",
        "intent_df = pd.DataFrame(data)\n",
        "intent_df['annotations']\n",
        "intent_df = intent_df.join(intent_df['annotations'].apply(pd.Series))\n",
        "\n",
        "\n",
        "intent_df.rename(columns={1: 'entities'}, inplace=True)\n",
        "intent_df.rename(columns={0: 'pattern'}, inplace=True)\n",
        "\n",
        "# Drop the unneccessary column\n",
        "intent_df.drop(columns=['annotations'], inplace=True)\n"
      ]
    },
    {
      "cell_type": "code",
      "execution_count": 6,
      "metadata": {},
      "outputs": [],
      "source": [
        "# Define a function to extract entities from the 'entities' column\n",
        "def extract_entities(entities):\n",
        "    if isinstance(entities, dict) :\n",
        "        return [tuple(entity) for entity in entities['entities']]\n",
        "    return np.nan\n",
        "\n",
        "# Apply the function to extract entities\n",
        "intent_df['entities'] = intent_df['entities'].apply(extract_entities)\n",
        "\n",
        "# Drop rows with missing entities\n",
        "intent_df=intent_df.dropna()\n"
      ]
    },
    {
      "cell_type": "code",
      "execution_count": 7,
      "metadata": {
        "id": "Q-P_doukIA7K"
      },
      "outputs": [
        {
          "data": {
            "text/html": [
              "<div>\n",
              "<style scoped>\n",
              "    .dataframe tbody tr th:only-of-type {\n",
              "        vertical-align: middle;\n",
              "    }\n",
              "\n",
              "    .dataframe tbody tr th {\n",
              "        vertical-align: top;\n",
              "    }\n",
              "\n",
              "    .dataframe thead th {\n",
              "        text-align: right;\n",
              "    }\n",
              "</style>\n",
              "<table border=\"1\" class=\"dataframe\">\n",
              "  <thead>\n",
              "    <tr style=\"text-align: right;\">\n",
              "      <th></th>\n",
              "      <th>pattern</th>\n",
              "      <th>entities</th>\n",
              "    </tr>\n",
              "  </thead>\n",
              "  <tbody>\n",
              "    <tr>\n",
              "      <th>0</th>\n",
              "      <td>Can you generate a bar chart showing sales per...</td>\n",
              "      <td>[(19, 28, VISUALIZATION), (37, 42, SALES), (58...</td>\n",
              "    </tr>\n",
              "    <tr>\n",
              "      <th>1</th>\n",
              "      <td>Can you generate a bar chart showing sales per...</td>\n",
              "      <td>[(19, 28, VISUALIZATION), (37, 42, SALES), (58...</td>\n",
              "    </tr>\n",
              "    <tr>\n",
              "      <th>2</th>\n",
              "      <td>Show me a bar chart of sales performance by re...</td>\n",
              "      <td>[(10, 19, VISUALIZATION), (23, 28, SALES), (44...</td>\n",
              "    </tr>\n",
              "    <tr>\n",
              "      <th>3</th>\n",
              "      <td>I'd like to see a bar chart of sales performan...</td>\n",
              "      <td>[(18, 27, VISUALIZATION), (31, 36, SALES), (52...</td>\n",
              "    </tr>\n",
              "    <tr>\n",
              "      <th>4</th>\n",
              "      <td>I'd like to see a bar chart of sales performan...</td>\n",
              "      <td>[(18, 27, VISUALIZATION), (31, 36, SALES), (52...</td>\n",
              "    </tr>\n",
              "    <tr>\n",
              "      <th>...</th>\n",
              "      <td>...</td>\n",
              "      <td>...</td>\n",
              "    </tr>\n",
              "    <tr>\n",
              "      <th>98</th>\n",
              "      <td>Show me a histogram of order values for the pa...</td>\n",
              "      <td>[(10, 19, VISUALIZATION), (23, 35, SALES), (44...</td>\n",
              "    </tr>\n",
              "    <tr>\n",
              "      <th>99</th>\n",
              "      <td>Can you provide a histogram of order values?</td>\n",
              "      <td>[(18, 27, VISUALIZATION), (31, 43, SALES)]</td>\n",
              "    </tr>\n",
              "    <tr>\n",
              "      <th>100</th>\n",
              "      <td>Create a histogram showing frequency of purcha...</td>\n",
              "      <td>[(9, 18, VISUALIZATION), (40, 49, SALES), (53,...</td>\n",
              "    </tr>\n",
              "    <tr>\n",
              "      <th>102</th>\n",
              "      <td>Generate a histogram showing distribution of c...</td>\n",
              "      <td>[(11, 20, VISUALIZATION), (45, 57, AGE)]</td>\n",
              "    </tr>\n",
              "    <tr>\n",
              "      <th>107</th>\n",
              "      <td>Create a histogram illustrating distribution o...</td>\n",
              "      <td>[(9, 18, VISUALIZATION), (48, 59, QUANTITY)]</td>\n",
              "    </tr>\n",
              "  </tbody>\n",
              "</table>\n",
              "<p>76 rows × 2 columns</p>\n",
              "</div>"
            ],
            "text/plain": [
              "                                               pattern  \\\n",
              "0    Can you generate a bar chart showing sales per...   \n",
              "1    Can you generate a bar chart showing sales per...   \n",
              "2    Show me a bar chart of sales performance by re...   \n",
              "3    I'd like to see a bar chart of sales performan...   \n",
              "4    I'd like to see a bar chart of sales performan...   \n",
              "..                                                 ...   \n",
              "98   Show me a histogram of order values for the pa...   \n",
              "99        Can you provide a histogram of order values?   \n",
              "100  Create a histogram showing frequency of purcha...   \n",
              "102  Generate a histogram showing distribution of c...   \n",
              "107  Create a histogram illustrating distribution o...   \n",
              "\n",
              "                                              entities  \n",
              "0    [(19, 28, VISUALIZATION), (37, 42, SALES), (58...  \n",
              "1    [(19, 28, VISUALIZATION), (37, 42, SALES), (58...  \n",
              "2    [(10, 19, VISUALIZATION), (23, 28, SALES), (44...  \n",
              "3    [(18, 27, VISUALIZATION), (31, 36, SALES), (52...  \n",
              "4    [(18, 27, VISUALIZATION), (31, 36, SALES), (52...  \n",
              "..                                                 ...  \n",
              "98   [(10, 19, VISUALIZATION), (23, 35, SALES), (44...  \n",
              "99          [(18, 27, VISUALIZATION), (31, 43, SALES)]  \n",
              "100  [(9, 18, VISUALIZATION), (40, 49, SALES), (53,...  \n",
              "102           [(11, 20, VISUALIZATION), (45, 57, AGE)]  \n",
              "107       [(9, 18, VISUALIZATION), (48, 59, QUANTITY)]  \n",
              "\n",
              "[76 rows x 2 columns]"
            ]
          },
          "execution_count": 7,
          "metadata": {},
          "output_type": "execute_result"
        }
      ],
      "source": [
        "training_data=intent_df\n",
        "training_data"
      ]
    },
    {
      "cell_type": "code",
      "execution_count": 8,
      "metadata": {
        "id": "k3mu2jJoHqvF"
      },
      "outputs": [],
      "source": [
        "# Create a blank spaCy model\n",
        "nlp = spacy.blank(\"en\")\n",
        "\n",
        "# Create a DocBin object to store the training data\n",
        "doc_bin = DocBin()"
      ]
    },
    {
      "cell_type": "code",
      "execution_count": 9,
      "metadata": {},
      "outputs": [],
      "source": [
        "import os\n",
        "# Ensure the directory exists\n",
        "os.makedirs(\"../data/ner_model\", exist_ok=True)\n",
        "\n"
      ]
    },
    {
      "cell_type": "code",
      "execution_count": 10,
      "metadata": {
        "id": "mD8UmqiIHvEm"
      },
      "outputs": [
        {
          "name": "stderr",
          "output_type": "stream",
          "text": [
            "  0%|          | 0/76 [00:00<?, ?it/s]"
          ]
        },
        {
          "name": "stderr",
          "output_type": "stream",
          "text": [
            "100%|██████████| 76/76 [00:00<00:00, 1033.44it/s]\n"
          ]
        }
      ],
      "source": [
        "# Iterate over the training data and create spaCy documents\n",
        "for index, training_example in tqdm(intent_df.iterrows(), total=intent_df.shape[0]):\n",
        "    text = training_example['pattern']\n",
        "    labels = training_example['entities']\n",
        "    doc = nlp.make_doc(text)\n",
        "    ents = []\n",
        "    for start, end, label in labels:\n",
        "        span = doc.char_span(start, end, label=label, alignment_mode=\"contract\")\n",
        "        if span is None:\n",
        "            print(\"Skipping entity\")\n",
        "        else:\n",
        "            ents.append(span)\n",
        "    filtered_ents = filter_spans(ents)\n",
        "    doc.set_ents(filtered_ents)\n",
        "    doc_bin.add(doc)\n",
        "#  Save the training data to a file\n",
        "doc_bin.to_disk(\"../data/ner_model/train.spacy\")"
      ]
    },
    {
      "cell_type": "code",
      "execution_count": 11,
      "metadata": {
        "id": "wAq4eIVuHvH9"
      },
      "outputs": [
        {
          "name": "stdout",
          "output_type": "stream",
          "text": [
            "\n",
            "\u001b[38;5;1m✘ The provided output file already exists. To force overwriting the\n",
            "config file, set the --force or -F flag.\u001b[0m\n",
            "\n",
            "\u001b[38;5;4mℹ Saving to output directory: ../data/ner_model\u001b[0m\n",
            "\u001b[38;5;4mℹ Using CPU\u001b[0m\n",
            "\u001b[1m\n",
            "=========================== Initializing pipeline ===========================\u001b[0m\n",
            "\u001b[38;5;2m✔ Initialized pipeline\u001b[0m\n",
            "\u001b[1m\n",
            "============================= Training pipeline =============================\u001b[0m\n",
            "\u001b[38;5;4mℹ Pipeline: ['tok2vec', 'ner']\u001b[0m\n",
            "\u001b[38;5;4mℹ Initial learn rate: 0.001\u001b[0m\n",
            "E    #       LOSS TOK2VEC  LOSS NER  ENTS_F  ENTS_P  ENTS_R  SCORE \n",
            "---  ------  ------------  --------  ------  ------  ------  ------\n",
            "  0       0          0.00     66.11    0.00    0.00    0.00    0.00\n",
            " 23     200         89.61   2490.60   99.77   99.55  100.00    1.00\n",
            " 52     400          8.42     13.03  100.00  100.00  100.00    1.00\n",
            " 88     600          0.00      0.01  100.00  100.00  100.00    1.00\n",
            "131     800          0.00      0.00  100.00  100.00  100.00    1.00\n",
            "181    1000          0.28      0.30  100.00  100.00  100.00    1.00\n",
            "247    1200         12.11      3.84  100.00  100.00  100.00    1.00\n",
            "319    1400         32.35     15.25  100.00  100.00  100.00    1.00\n",
            "419    1600         19.59      7.58  100.00  100.00  100.00    1.00\n",
            "519    1800         84.23     22.23  100.00  100.00  100.00    1.00\n",
            "635    2000         28.84      7.49  100.00  100.00  100.00    1.00\n",
            "\u001b[38;5;2m✔ Saved pipeline to output directory\u001b[0m\n",
            "../data/ner_model/model-last\n"
          ]
        }
      ],
      "source": [
        "# Initialize a spaCy config file\n",
        "! python -m spacy init config ../data/ner_model/config.cfg --lang en --pipeline ner --optimize efficiency\n",
        "\n",
        "# Train the spaCy model\n",
        "! python -m spacy train ../data/ner_model/config.cfg --output ../data/ner_model/ --paths.train ../data/ner_model/train.spacy --paths.dev ../data/ner_model/train.spacy\n"
      ]
    },
    {
      "cell_type": "code",
      "execution_count": 12,
      "metadata": {
        "id": "88oVjiIRHvT4"
      },
      "outputs": [],
      "source": [
        "# Load the trained spaCy model\n",
        "nlp_trained_model = spacy.load(\"../data/ner_model/model-best\")"
      ]
    },
    {
      "cell_type": "code",
      "execution_count": 16,
      "metadata": {
        "id": "1Zb0tA1jKd4N"
      },
      "outputs": [],
      "source": [
        "# Create a spaCy document from the input text\n",
        "doc = nlp_trained_model('''\n",
        "Show me a scatter plot of country and product type.\n",
        "''')"
      ]
    },
    {
      "cell_type": "code",
      "execution_count": 17,
      "metadata": {
        "colab": {
          "base_uri": "https://localhost:8080/",
          "height": 122
        },
        "id": "6OWoHXs7KeHS",
        "outputId": "560d7f1e-4191-4390-8753-c34e1f46e609"
      },
      "outputs": [
        {
          "data": {
            "text/html": [
              "<span class=\"tex2jax_ignore\"><div class=\"entities\" style=\"line-height: 2.5; direction: ltr\"><br>Show me a \n",
              "<mark class=\"entity\" style=\"background: #ddd; padding: 0.45em 0.6em; margin: 0 0.25em; line-height: 1; border-radius: 0.35em;\">\n",
              "    scatter plot\n",
              "    <span style=\"font-size: 0.8em; font-weight: bold; line-height: 1; border-radius: 0.35em; vertical-align: middle; margin-left: 0.5rem\">VISUALIZATION</span>\n",
              "</mark>\n",
              " of \n",
              "<mark class=\"entity\" style=\"background: #ddd; padding: 0.45em 0.6em; margin: 0 0.25em; line-height: 1; border-radius: 0.35em;\">\n",
              "    country\n",
              "    <span style=\"font-size: 0.8em; font-weight: bold; line-height: 1; border-radius: 0.35em; vertical-align: middle; margin-left: 0.5rem\">COUNTRY</span>\n",
              "</mark>\n",
              " and \n",
              "<mark class=\"entity\" style=\"background: #bfeeb7; padding: 0.45em 0.6em; margin: 0 0.25em; line-height: 1; border-radius: 0.35em;\">\n",
              "    product type\n",
              "    <span style=\"font-size: 0.8em; font-weight: bold; line-height: 1; border-radius: 0.35em; vertical-align: middle; margin-left: 0.5rem\">PRODUCT</span>\n",
              "</mark>\n",
              ".<br></div></span>"
            ],
            "text/plain": [
              "<IPython.core.display.HTML object>"
            ]
          },
          "metadata": {},
          "output_type": "display_data"
        }
      ],
      "source": [
        "# Visualize the entities in the document\n",
        "spacy.displacy.render(doc, style=\"ent\", jupyter=True)"
      ]
    }
  ],
  "metadata": {
    "colab": {
      "provenance": []
    },
    "kernelspec": {
      "display_name": "Python 3",
      "name": "python3"
    },
    "language_info": {
      "codemirror_mode": {
        "name": "ipython",
        "version": 3
      },
      "file_extension": ".py",
      "mimetype": "text/x-python",
      "name": "python",
      "nbconvert_exporter": "python",
      "pygments_lexer": "ipython3",
      "version": "3.10.12"
    }
  },
  "nbformat": 4,
  "nbformat_minor": 0
}
