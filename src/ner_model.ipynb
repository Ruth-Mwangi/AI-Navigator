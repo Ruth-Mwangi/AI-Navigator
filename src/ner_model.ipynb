{
  "cells": [
    {
      "cell_type": "code",
      "execution_count": 25,
      "metadata": {
        "id": "aBJlQXgIpNlt"
      },
      "outputs": [],
      "source": [
        "import numpy as np\n",
        "import pandas as pd\n",
        "\n",
        "import matplotlib.pyplot as plt\n",
        "import seaborn as sns\n",
        "\n",
        "import nltk\n",
        "import spacy\n",
        "from spacy.tokens import DocBin\n",
        "from tqdm import tqdm\n",
        "import json\n",
        "from spacy.util import filter_spans"
      ]
    },
    {
      "cell_type": "code",
      "execution_count": 26,
      "metadata": {
        "id": "b3_va4Vdq2wO"
      },
      "outputs": [],
      "source": [
        "# Define the path to the training data file\n",
        "train_file=\"data/annotations.json\"\n",
        "\n",
        "# Load the training data from the JSON file\n",
        "with open(train_file) as f:\n",
        "    data = json.load(f)\n",
        "\n",
        "# Extract the relevant columns from the DataFrame\n",
        "intent_df = pd.DataFrame(data)\n",
        "intent_df['annotations']\n",
        "intent_df = intent_df.join(intent_df['annotations'].apply(pd.Series))\n",
        "\n",
        "\n",
        "intent_df.rename(columns={1: 'entities'}, inplace=True)\n",
        "intent_df.rename(columns={0: 'pattern'}, inplace=True)\n",
        "\n",
        "# Drop the unneccessary column\n",
        "intent_df.drop(columns=['annotations'], inplace=True)\n"
      ]
    },
    {
      "cell_type": "code",
      "execution_count": 27,
      "metadata": {},
      "outputs": [],
      "source": [
        "# Define a function to extract entities from the 'entities' column\n",
        "def extract_entities(entities):\n",
        "    if isinstance(entities, dict) :\n",
        "        return [tuple(entity) for entity in entities['entities']]\n",
        "    return np.nan\n",
        "\n",
        "# Apply the function to extract entities\n",
        "intent_df['entities'] = intent_df['entities'].apply(extract_entities)\n",
        "\n",
        "# Drop rows with missing entities\n",
        "intent_df=intent_df.dropna()\n"
      ]
    },
    {
      "cell_type": "code",
      "execution_count": 28,
      "metadata": {
        "id": "Q-P_doukIA7K"
      },
      "outputs": [
        {
          "data": {
            "text/html": [
              "<div>\n",
              "<style scoped>\n",
              "    .dataframe tbody tr th:only-of-type {\n",
              "        vertical-align: middle;\n",
              "    }\n",
              "\n",
              "    .dataframe tbody tr th {\n",
              "        vertical-align: top;\n",
              "    }\n",
              "\n",
              "    .dataframe thead th {\n",
              "        text-align: right;\n",
              "    }\n",
              "</style>\n",
              "<table border=\"1\" class=\"dataframe\">\n",
              "  <thead>\n",
              "    <tr style=\"text-align: right;\">\n",
              "      <th></th>\n",
              "      <th>pattern</th>\n",
              "      <th>entities</th>\n",
              "    </tr>\n",
              "  </thead>\n",
              "  <tbody>\n",
              "    <tr>\n",
              "      <th>0</th>\n",
              "      <td>Can you provide details for InvoiceNo 536365?</td>\n",
              "      <td>[(28, 37, VARIABLE), (38, 44, VALUE)]</td>\n",
              "    </tr>\n",
              "    <tr>\n",
              "      <th>1</th>\n",
              "      <td>What items were purchased with InvoiceNo 536365?</td>\n",
              "      <td>[(31, 40, VARIABLE), (41, 47, VALUE)]</td>\n",
              "    </tr>\n",
              "    <tr>\n",
              "      <th>2</th>\n",
              "      <td>I need information about transaction InvoiceNo...</td>\n",
              "      <td>[(37, 46, VARIABLE), (47, 53, VALUE)]</td>\n",
              "    </tr>\n",
              "    <tr>\n",
              "      <th>3</th>\n",
              "      <td>Details for InvoiceNo 536365, please?</td>\n",
              "      <td>[(12, 21, VARIABLE), (22, 28, VALUE)]</td>\n",
              "    </tr>\n",
              "    <tr>\n",
              "      <th>4</th>\n",
              "      <td>What can you tell me about InvoiceNo 536365?</td>\n",
              "      <td>[(27, 36, VARIABLE), (37, 43, VALUE)]</td>\n",
              "    </tr>\n",
              "    <tr>\n",
              "      <th>...</th>\n",
              "      <td>...</td>\n",
              "      <td>...</td>\n",
              "    </tr>\n",
              "    <tr>\n",
              "      <th>233</th>\n",
              "      <td>Show distribution of product prices using a hi...</td>\n",
              "      <td>[(21, 35, VARIABLE), (44, 53, VISUALIZATION)]</td>\n",
              "    </tr>\n",
              "    <tr>\n",
              "      <th>234</th>\n",
              "      <td>Create a histogram illustrating distribution o...</td>\n",
              "      <td>[(9, 18, VISUALIZATION), (48, 59, VARIABLE)]</td>\n",
              "    </tr>\n",
              "    <tr>\n",
              "      <th>235</th>\n",
              "      <td>Generate a histogram showing distribution of w...</td>\n",
              "      <td>[(11, 20, VISUALIZATION), (45, 60, VARIABLE)]</td>\n",
              "    </tr>\n",
              "    <tr>\n",
              "      <th>236</th>\n",
              "      <td>Generate a heatmap depicting regional sales pe...</td>\n",
              "      <td>[(11, 18, VISUALIZATION), (29, 37, VARIABLE), ...</td>\n",
              "    </tr>\n",
              "    <tr>\n",
              "      <th>237</th>\n",
              "      <td>Show distribution of customer complaints using...</td>\n",
              "      <td>[]</td>\n",
              "    </tr>\n",
              "  </tbody>\n",
              "</table>\n",
              "<p>167 rows × 2 columns</p>\n",
              "</div>"
            ],
            "text/plain": [
              "                                               pattern  \\\n",
              "0        Can you provide details for InvoiceNo 536365?   \n",
              "1     What items were purchased with InvoiceNo 536365?   \n",
              "2    I need information about transaction InvoiceNo...   \n",
              "3                Details for InvoiceNo 536365, please?   \n",
              "4         What can you tell me about InvoiceNo 536365?   \n",
              "..                                                 ...   \n",
              "233  Show distribution of product prices using a hi...   \n",
              "234  Create a histogram illustrating distribution o...   \n",
              "235  Generate a histogram showing distribution of w...   \n",
              "236  Generate a heatmap depicting regional sales pe...   \n",
              "237  Show distribution of customer complaints using...   \n",
              "\n",
              "                                              entities  \n",
              "0                [(28, 37, VARIABLE), (38, 44, VALUE)]  \n",
              "1                [(31, 40, VARIABLE), (41, 47, VALUE)]  \n",
              "2                [(37, 46, VARIABLE), (47, 53, VALUE)]  \n",
              "3                [(12, 21, VARIABLE), (22, 28, VALUE)]  \n",
              "4                [(27, 36, VARIABLE), (37, 43, VALUE)]  \n",
              "..                                                 ...  \n",
              "233      [(21, 35, VARIABLE), (44, 53, VISUALIZATION)]  \n",
              "234       [(9, 18, VISUALIZATION), (48, 59, VARIABLE)]  \n",
              "235      [(11, 20, VISUALIZATION), (45, 60, VARIABLE)]  \n",
              "236  [(11, 18, VISUALIZATION), (29, 37, VARIABLE), ...  \n",
              "237                                                 []  \n",
              "\n",
              "[167 rows x 2 columns]"
            ]
          },
          "execution_count": 28,
          "metadata": {},
          "output_type": "execute_result"
        }
      ],
      "source": [
        "training_data=intent_df\n",
        "training_data"
      ]
    },
    {
      "cell_type": "code",
      "execution_count": 29,
      "metadata": {
        "id": "k3mu2jJoHqvF"
      },
      "outputs": [],
      "source": [
        "# Create a blank spaCy model\n",
        "nlp = spacy.blank(\"en\")\n",
        "\n",
        "# Create a DocBin object to store the training data\n",
        "doc_bin = DocBin()"
      ]
    },
    {
      "cell_type": "code",
      "execution_count": 30,
      "metadata": {
        "id": "mD8UmqiIHvEm"
      },
      "outputs": [
        {
          "name": "stderr",
          "output_type": "stream",
          "text": [
            "100%|██████████| 167/167 [00:00<00:00, 2979.67it/s]"
          ]
        },
        {
          "name": "stdout",
          "output_type": "stream",
          "text": [
            "Skipping entity\n",
            "Skipping entity\n",
            "Skipping entity\n",
            "Skipping entity\n",
            "Skipping entity\n",
            "Skipping entity\n",
            "Skipping entity\n",
            "Skipping entity\n"
          ]
        },
        {
          "name": "stderr",
          "output_type": "stream",
          "text": [
            "\n"
          ]
        }
      ],
      "source": [
        "# Iterate over the training data and create spaCy documents\n",
        "for index, training_example in tqdm(intent_df.iterrows(), total=intent_df.shape[0]):\n",
        "    text = training_example['pattern']\n",
        "    labels = training_example['entities']\n",
        "    doc = nlp.make_doc(text)\n",
        "    ents = []\n",
        "    for start, end, label in labels:\n",
        "        span = doc.char_span(start, end, label=label, alignment_mode=\"contract\")\n",
        "        if span is None:\n",
        "            print(\"Skipping entity\")\n",
        "        else:\n",
        "            ents.append(span)\n",
        "    filtered_ents = filter_spans(ents)\n",
        "    doc.set_ents(filtered_ents)\n",
        "    doc_bin.add(doc)\n",
        "#  Save the training data to a file\n",
        "doc_bin.to_disk(\"ner_model/train.spacy\")"
      ]
    },
    {
      "cell_type": "code",
      "execution_count": 31,
      "metadata": {
        "id": "wAq4eIVuHvH9"
      },
      "outputs": [
        {
          "name": "stdout",
          "output_type": "stream",
          "text": [
            "\n",
            "\u001b[38;5;1m✘ The provided output file already exists. To force overwriting the\n",
            "config file, set the --force or -F flag.\u001b[0m\n",
            "\n",
            "\u001b[38;5;4mℹ Saving to output directory: ner_model\u001b[0m\n",
            "\u001b[38;5;4mℹ Using CPU\u001b[0m\n",
            "\u001b[1m\n",
            "=========================== Initializing pipeline ===========================\u001b[0m\n",
            "\u001b[38;5;2m✔ Initialized pipeline\u001b[0m\n",
            "\u001b[1m\n",
            "============================= Training pipeline =============================\u001b[0m\n",
            "\u001b[38;5;4mℹ Pipeline: ['tok2vec', 'ner']\u001b[0m\n",
            "\u001b[38;5;4mℹ Initial learn rate: 0.001\u001b[0m\n",
            "E    #       LOSS TOK2VEC  LOSS NER  ENTS_F  ENTS_P  ENTS_R  SCORE \n",
            "---  ------  ------------  --------  ------  ------  ------  ------\n",
            "  0       0          0.00     65.73    0.00    0.00    0.00    0.00\n",
            " 12     200        111.24   2396.24   96.62   96.15   97.09    0.97\n",
            " 28     400         83.90    319.62   97.71   98.68   96.76    0.98\n",
            " 47     600        106.49    288.72   98.55   98.39   98.71    0.99\n",
            " 70     800        136.80    243.50   98.70   99.02   98.38    0.99\n",
            " 98    1000        101.75    245.69   98.71   98.71   98.71    0.99\n",
            "133    1200         85.02    279.14   98.71   98.71   98.71    0.99\n",
            "175    1400         95.22    328.02   98.70   99.02   98.38    0.99\n",
            "225    1600         84.92    354.50   98.71   98.39   99.03    0.99\n",
            "289    1800         87.01    408.25   98.70   99.02   98.38    0.99\n",
            "355    2000         86.80    363.06   99.03   99.03   99.03    0.99\n",
            "453    2200         67.83    467.24   99.03   98.71   99.35    0.99\n",
            "553    2400         50.24    463.14   99.03   99.03   99.03    0.99\n",
            "653    2600         51.62    465.11   99.03   99.35   98.71    0.99\n",
            "753    2800         34.91    467.01   99.03   99.03   99.03    0.99\n",
            "853    3000         48.94    464.51   99.03   98.71   99.35    0.99\n",
            "953    3200         36.87    450.26   99.03   98.71   99.35    0.99\n",
            "1053    3400         41.76    442.57   99.03   99.03   99.03    0.99\n",
            "1153    3600         73.76    462.01   99.03   99.03   99.03    0.99\n",
            "1253    3800         57.70    454.66   99.03   98.71   99.35    0.99\n",
            "\u001b[38;5;2m✔ Saved pipeline to output directory\u001b[0m\n",
            "ner_model/model-last\n"
          ]
        }
      ],
      "source": [
        "# Initialize a spaCy config file\n",
        "! python -m spacy init config ./ner_model/config.cfg --lang en --pipeline ner --optimize efficiency\n",
        "\n",
        "# Train the spaCy model\n",
        "! python -m spacy train ./ner_model/config.cfg --output ./ner_model/ --paths.train ./ner_model/train.spacy --paths.dev ./ner_model/train.spacy\n"
      ]
    },
    {
      "cell_type": "code",
      "execution_count": 33,
      "metadata": {
        "id": "88oVjiIRHvT4"
      },
      "outputs": [],
      "source": [
        "# Load the trained spaCy model\n",
        "nlp_trained_model = spacy.load(\"ner_model/model-best\")"
      ]
    },
    {
      "cell_type": "code",
      "execution_count": 34,
      "metadata": {
        "id": "1Zb0tA1jKd4N"
      },
      "outputs": [],
      "source": [
        "# Create a spaCy document from the input text\n",
        "doc = nlp_trained_model('''\n",
        "Please show me a scatter plot of country and product type.\n",
        "Give me details of Invoice number  1234534\n",
        "''')"
      ]
    },
    {
      "cell_type": "code",
      "execution_count": 35,
      "metadata": {
        "colab": {
          "base_uri": "https://localhost:8080/",
          "height": 122
        },
        "id": "6OWoHXs7KeHS",
        "outputId": "560d7f1e-4191-4390-8753-c34e1f46e609"
      },
      "outputs": [
        {
          "data": {
            "text/html": [
              "<span class=\"tex2jax_ignore\"><div class=\"entities\" style=\"line-height: 2.5; direction: ltr\"><br>Please show me a \n",
              "<mark class=\"entity\" style=\"background: #ddd; padding: 0.45em 0.6em; margin: 0 0.25em; line-height: 1; border-radius: 0.35em;\">\n",
              "    scatter plot\n",
              "    <span style=\"font-size: 0.8em; font-weight: bold; line-height: 1; border-radius: 0.35em; vertical-align: middle; margin-left: 0.5rem\">VISUALIZATION</span>\n",
              "</mark>\n",
              " of \n",
              "<mark class=\"entity\" style=\"background: #ddd; padding: 0.45em 0.6em; margin: 0 0.25em; line-height: 1; border-radius: 0.35em;\">\n",
              "    country\n",
              "    <span style=\"font-size: 0.8em; font-weight: bold; line-height: 1; border-radius: 0.35em; vertical-align: middle; margin-left: 0.5rem\">VARIABLE</span>\n",
              "</mark>\n",
              " and \n",
              "<mark class=\"entity\" style=\"background: #ddd; padding: 0.45em 0.6em; margin: 0 0.25em; line-height: 1; border-radius: 0.35em;\">\n",
              "    product type\n",
              "    <span style=\"font-size: 0.8em; font-weight: bold; line-height: 1; border-radius: 0.35em; vertical-align: middle; margin-left: 0.5rem\">VARIABLE</span>\n",
              "</mark>\n",
              ".<br>Give me details of \n",
              "<mark class=\"entity\" style=\"background: #ddd; padding: 0.45em 0.6em; margin: 0 0.25em; line-height: 1; border-radius: 0.35em;\">\n",
              "    Invoice number\n",
              "    <span style=\"font-size: 0.8em; font-weight: bold; line-height: 1; border-radius: 0.35em; vertical-align: middle; margin-left: 0.5rem\">VARIABLE</span>\n",
              "</mark>\n",
              "  \n",
              "<mark class=\"entity\" style=\"background: #bfe1d9; padding: 0.45em 0.6em; margin: 0 0.25em; line-height: 1; border-radius: 0.35em;\">\n",
              "    1234534\n",
              "\n",
              "    <span style=\"font-size: 0.8em; font-weight: bold; line-height: 1; border-radius: 0.35em; vertical-align: middle; margin-left: 0.5rem\">DATE</span>\n",
              "</mark>\n",
              "</div></span>"
            ],
            "text/plain": [
              "<IPython.core.display.HTML object>"
            ]
          },
          "metadata": {},
          "output_type": "display_data"
        }
      ],
      "source": [
        "# Visualize the entities in the document\n",
        "spacy.displacy.render(doc, style=\"ent\", jupyter=True)"
      ]
    }
  ],
  "metadata": {
    "colab": {
      "provenance": []
    },
    "kernelspec": {
      "display_name": "Python 3",
      "name": "python3"
    },
    "language_info": {
      "codemirror_mode": {
        "name": "ipython",
        "version": 3
      },
      "file_extension": ".py",
      "mimetype": "text/x-python",
      "name": "python",
      "nbconvert_exporter": "python",
      "pygments_lexer": "ipython3",
      "version": "3.10.12"
    }
  },
  "nbformat": 4,
  "nbformat_minor": 0
}
